{
 "cells": [
  {
   "cell_type": "code",
   "execution_count": 10,
   "metadata": {},
   "outputs": [],
   "source": [
    "import matplotlib as mp\n",
    "import numpy as np \n",
    "import matplotlib.pyplot as plt\n",
    "from PIL import Image\n",
    "import pandas as pd"
   ]
  },
  {
   "cell_type": "code",
   "execution_count": 22,
   "metadata": {},
   "outputs": [
    {
     "name": "stdout",
     "output_type": "stream",
     "text": [
      "(2000, 240)\n"
     ]
    }
   ],
   "source": [
    "vectors = np.loadtxt('mfeat-pix.txt')\n",
    "print(vectors.shape)\n",
    "\n",
    "zeros = vectors[0:200]\n",
    "# zeros = zeros.reshape(16, 15)\n",
    "#     # ones  = vectors[300][:]\n",
    "#     # ones = ones.reshape(16, 15)\n",
    "\n",
    "# for i in range(1, 10):\n",
    "#     for j in range(1, 10):\n",
    "#         plt.subplot(10,10,(i-1)* 10 + j);\n",
    "#         plt.imshow(zeros, cmap='gray')\n",
    "#         plt.axis('off')\n",
    "\n",
    "# plt.show()"
   ]
  },
  {
   "cell_type": "code",
   "execution_count": 23,
   "metadata": {},
   "outputs": [],
   "source": [
    "def showImage(vectors):\n",
    "    imageMatrix = vectors.reshape(16, 15)\n",
    "    plt.imshow(imageMatrix, cmap = 'gray')\n",
    "    plt.show()\n",
    "def imageCat(vectors): \n",
    "    for rows in vectors: \n",
    "        showImage(rows)"
   ]
  },
  {
   "cell_type": "code",
   "execution_count": 25,
   "metadata": {},
   "outputs": [],
   "source": [
    "def distance(p1, p2):\n",
    "    diff = p1 - p2\n",
    "    s = np.sum(np.power(diff, 2))\n",
    "    return np.sqrt(s)"
   ]
  },
  {
   "cell_type": "code",
   "execution_count": 26,
   "metadata": {},
   "outputs": [],
   "source": [
    "def classify(pixels, centers): \n",
    "    num_centers, _ = centers.shape\n",
    "    num_pixels, _ = pixels.shape\n",
    "    distances = np.zeros((num_centers, num_pixels))\n",
    "    for i in range(num_centers): \n",
    "        for j in range(num_pixels): \n",
    "            distances[i][j] = distance(centers[i], pixels[j])\n",
    "    return np.argmin(distances, axis = 0)"
   ]
  },
  {
   "cell_type": "code",
   "execution_count": 27,
   "metadata": {},
   "outputs": [],
   "source": [
    "def find_cluster(pixels, centers): \n",
    "    num_centers, _ = centers.shape\n",
    "    num_pixels, dim = pixels.shape\n",
    "    \n",
    "    classified = classify(pixels, centers)\n",
    "    for c in range(num_centers): \n",
    "        sum = np.zeros(dim)\n",
    "        count = 0 \n",
    "        for i in range(num_pixels): \n",
    "            if(classified[i] == c): \n",
    "                sum += pixels[i]\n",
    "                count += 1\n",
    "        mean = sum / count \n",
    "        centers[c] = mean\n",
    "    return centers "
   ]
  },
  {
   "cell_type": "code",
   "execution_count": 28,
   "metadata": {},
   "outputs": [],
   "source": [
    "def k_means(pixels, k, iterations): \n",
    "    centers = pixels[0:k]\n",
    "    for i in range(iterations): \n",
    "        centers = find_cluster(pixels, centers)\n",
    "    return centers"
   ]
  },
  {
   "cell_type": "code",
   "execution_count": null,
   "metadata": {},
   "outputs": [],
   "source": [
    "centers = k_means()"
   ]
  }
 ],
 "metadata": {
  "kernelspec": {
   "display_name": "Python 3",
   "language": "python",
   "name": "python3"
  },
  "language_info": {
   "codemirror_mode": {
    "name": "ipython",
    "version": 3
   },
   "file_extension": ".py",
   "mimetype": "text/x-python",
   "name": "python",
   "nbconvert_exporter": "python",
   "pygments_lexer": "ipython3",
   "version": "3.6.5"
  }
 },
 "nbformat": 4,
 "nbformat_minor": 2
}
