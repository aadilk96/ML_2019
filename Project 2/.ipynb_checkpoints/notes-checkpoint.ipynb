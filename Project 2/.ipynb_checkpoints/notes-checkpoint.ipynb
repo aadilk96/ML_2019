{
 "cells": [
  {
   "cell_type": "markdown",
   "metadata": {},
   "source": [
    "# Machine Learning\n",
    "## Miniproject 2\n",
    "Dragi Kamov and Aadil Kumar"
   ]
  },
  {
   "cell_type": "markdown",
   "metadata": {},
   "source": [
    "## Used libraries"
   ]
  },
  {
   "cell_type": "code",
   "execution_count": 1,
   "metadata": {},
   "outputs": [],
   "source": [
    "import numpy as np\n",
    "import matplotlib.pyplot as plt\n",
    "from numpy import linalg as la\n",
    "from sklearn.decomposition import PCA"
   ]
  },
  {
   "cell_type": "markdown",
   "metadata": {},
   "source": [
    "## Loading data"
   ]
  },
  {
   "cell_type": "code",
   "execution_count": 2,
   "metadata": {},
   "outputs": [],
   "source": [
    "vectors = np.loadtxt('data/mfeat-pix.txt')"
   ]
  },
  {
   "cell_type": "markdown",
   "metadata": {},
   "source": [
    "## Feature extraction \n",
    "Feature extraction is a used in machine learning to derive values (features) that are important from a dataset. It is used to alleviate the cure of dimensionality by reducing the dimensions of the dataset."
   ]
  },
  {
   "cell_type": "markdown",
   "metadata": {},
   "source": [
    "## Types of features \n",
    "- Hand-made features refer to properties derived from human insight on information that is in the images\n",
    "- K-means based features groups a collection of training data points related clusters $C_1,..., C_K$. Each cluster  $C_i$ is then represented by a codebook vector $c_i$, these codebook vectors are then used to compress data.\n",
    "- Principal Component Analysis (PCA) extracts features by converting a set of observations of possibly correlated variables into a set of values of linearly uncorrelated variables (principal components) using an orthogonal transformation."
   ]
  },
  {
   "cell_type": "markdown",
   "metadata": {},
   "source": [
    "## In our program, we will use PCA for feature extraction:\n",
    "### The steps in PCA algorithm follows:"
   ]
  },
  {
   "cell_type": "markdown",
   "metadata": {},
   "source": [
    "- centering the data: mapping each vector $x_i \\to \\bar{x_i}$, where $\\bar{x_i} = x_i - \\bar{x}$\n",
    " - calculating the $\\mu_1, \\mu_2, ... \\mu_m$, where $m$ is the number of principle components\n",
    "   $\\mu_i$ is calculated via $SVD$ algorithm.\n",
    "   \n",
    "   1. We calculate the correlation matrix $R$.\n",
    "   2. Calculate the SVD via $$[U, \\Sigma, V^*] = SVD(R)$$, where\n",
    "   $$ R = U \\Sigma V^* $$\n",
    "   3. Extract the principle components $\\mu_1, \\mu_2, ... \\mu_m$, where $ m < n$, by taking the first $m$ columns of $U$. \n",
    " - Compression: we take each $\\mu_1, \\mu_2, \\mu_3 ... $ and dot product the already centered $\\bar{x_i}$ to obtain a vector $v \\in \\mathbb{R}^m$\n",
    " \\begin{align*}\n",
    " v = \\begin{bmatrix}\n",
    " \\mu_1 \\cdot \\bar{x_i} \\\\\n",
    "  \\mu_2 \\cdot \\bar{x_i} \\\\\n",
    "   \\mu_3 \\cdot \\bar{x_i} \\\\\n",
    "    \\mu_4 \\cdot \\bar{x_i} \\\\\n",
    "    ... \\\\\n",
    "    \\mu_m \\cdot \\bar{x_i}\n",
    " \\end{bmatrix}\n",
    " \\end{align*}\n",
    " - Decompression: we simply calculate\n",
    " $$ recovered = \\sum_{i = 1}^{m} v_i \\cdot \\mu_i $$"
   ]
  },
  {
   "cell_type": "markdown",
   "metadata": {},
   "source": [
    "Additionally, we split the training data into training set $X$ and test set $Xtest$, and build its associated label one-hot encoding vector matrix $Y$ and $Ytest$ "
   ]
  },
  {
   "cell_type": "markdown",
   "metadata": {},
   "source": [
    "## Adding bais\n",
    "\n",
    "We then create a fuction to add the bias term to the features. Linear regression will create a model based on offine function, which contains a bais term. Without it, we can only approximate the data using linear function, and it would lead to a very bad model."
   ]
  },
  {
   "cell_type": "code",
   "execution_count": 3,
   "metadata": {},
   "outputs": [],
   "source": [
    "def add_bais(X):\n",
    "    N, D = X.shape\n",
    "    Y = np.ones((N, D + 1))\n",
    "    Y[:,:-1] = X\n",
    "    return Y\n",
    "def square_norm(x):\n",
    "    return np.sum(np.power(x, 2))"
   ]
  },
  {
   "cell_type": "markdown",
   "metadata": {},
   "source": [
    "## Use One-hot encoding to generate class vector\n",
    "Since the dataset doesn't contain any kind of label, we need to generate a class vector for each label $\\{0, 1, 2, ... 10\\}$ as $v \\in \\mathbb{R}^{10}$. The following function will execute such a strategy."
   ]
  },
  {
   "cell_type": "code",
   "execution_count": 4,
   "metadata": {},
   "outputs": [],
   "source": [
    "def onehot_encode(digit):\n",
    "    rst = np.zeros(10)\n",
    "    rst[digit] = 1\n",
    "    return rst"
   ]
  },
  {
   "cell_type": "markdown",
   "metadata": {},
   "source": [
    "# Linear Regression Implementation\n",
    "For a given dataset $data$ and a fixed number of feature $k$,\n",
    "our algorithm of linear regression proceed as the following:\n",
    "1. Performing a PCA algorithm to reduce the dimensions of $data$ from $\\mathbb{R}^{240}$ to $\\mathbb{R}^{k}$. Thus, we can view PCA algorithms as a function $PCA: \\mathbb{R}^{240} \\to \\mathbb{R}^{k}$\n",
    "2. Split the entire dataset after dimension reduction into training set features $X \\in \\mathbb{R}^{1000 \\times k}$ and test set features $X_{test} \\in \\mathbb{R}^{1000 \\times k}$\n",
    "3. Associate $X$ and $X_{test}$ with bias term, thus we have $X, X_{test} \\in \\mathbb{R}^{1000 \\times (K + 1)}$ \n",
    "4. Build the correct class vector for training set as $Y \\in \\mathbb{R}^{1000 \\times 10}$ and test set as $Y_{test} \\in \\mathbb{R}^{1000 \\times 10}$. After such operation, we obtained the complete training set as $(X, Y)$ and the test set as $(X_{test}, Y_{test})$\n",
    "5. Using the training set, compute the optimal weight matrix as\n",
    "$$ {W_{opt}}^\\top = (\\frac{1}{N} \\cdot X \\cdot X^\\top + \\alpha^2 \\cdot I_{nxn})^{-1} \\cdot \\frac{1}{N} \\cdot X \\cdot Y $$\n",
    "we can rewrite as\n",
    "$$ W_{opt} = ((\\frac{1}{N} \\cdot X \\cdot X^\\top + \\alpha^2 \\cdot I_{nxn})^{-1} \\cdot \\frac{1}{N} \\cdot X \\cdot Y)^\\top $$\n",
    "6. Calculate the error term.\n",
    "First, we make the prediction:\n",
    "$$ Y_{pred} = (W_{opt} \\cdot X)^\\top $$\n",
    "$$ Y_{test}pred = (W_{opt} \\cdot X_{test})^\\top $$\n",
    "Using the prediction, we calculate the corresponding error\n",
    "$$ MSE_{train} = \\frac{\\|Y - Ypred\\|^2}{1000} $$\n",
    "$$ MSE_{test} = \\frac{\\|Ytest - Y_{test}pred\\|^2}{1000} $$\n",
    "$$ MISS_{train} = \\frac{\\sum_{i = 1}^{1000} \\min(1, \\|\\arg\\max(Y_i) - \\arg\\max(Ypred_i)\\|)}{1000} $$\n",
    "$$ MISS_{test} = \\frac{\\sum_{i = 1}^{1000} \\min(1, \\|\\arg\\max({Y_{test}}_i) - \\arg\\max(Y_{test}pred_i)\\|)}{1000} $$"
   ]
  },
  {
   "cell_type": "code",
   "execution_count": 6,
   "metadata": {},
   "outputs": [
    {
     "ename": "IndentationError",
     "evalue": "expected an indented block (<ipython-input-6-19f7dd290a34>, line 6)",
     "output_type": "error",
     "traceback": [
      "\u001b[0;36m  File \u001b[0;32m\"<ipython-input-6-19f7dd290a34>\"\u001b[0;36m, line \u001b[0;32m6\u001b[0m\n\u001b[0;31m    pca = PCA(n_components=k)\u001b[0m\n\u001b[0m      ^\u001b[0m\n\u001b[0;31mIndentationError\u001b[0m\u001b[0;31m:\u001b[0m expected an indented block\n"
     ]
    }
   ],
   "source": [
    "def linear_regression(data, k):\n",
    "    # do a linear regression on feature of number k\n",
    "    \n",
    "    #perform pca\n",
    "    pca = PCA(n_components=k)\n",
    "    data_pca = pca.fit_transform(data)\n",
    "    \n",
    "    # split the training set\n",
    "    X = np.ones((1000, k))\n",
    "    Xtest = np.ones((1000, k))\n",
    "    for i in range(10):\n",
    "        X[i*100:i*100 + 100][:] = data_pca[i*200:i*200 + 100][:]\n",
    "        Xtest[i*100:i*100 + 100][:] = data_pca[i*200 + 100:i*200 + 200][:]\n",
    "    \n",
    "    # add bias term\n",
    "    X = add_bais(X)\n",
    "    Xtest = add_bais(Xtest)\n",
    "    \n",
    "    # build the class\n",
    "    Y = np.zeros((k + 1, 10))\n",
    "    Ytest = np.zeros((k + 1, 10))\n",
    "    \n",
    "    for i in range(k + 1):\n",
    "        digit = i // 100\n",
    "        Y[i] = onehot_encode(digit).T #assign the one-hot encoding\n",
    "        Ytest[i] = onehot_encode(digit).T #same here\n",
    "        \n",
    "    # calculate the optimal weight\n",
    "    Wopt = (np.dot(la.inv((1/1000) * np.matmul(X, X.T)) * (1/1000), np.matmul(X, Y))).T\n",
    "    \n",
    "    #calculate the training error term\n",
    "    # first make the prediction\n",
    "    Ypred = np.matmul(Wopt, X).T\n",
    "    Ytestpred = np.matmul(Wopt, Xtest).T\n",
    "    \n",
    "    #calculate the error\n",
    "    mse_train = square_norm(Ypred - Y) / 1000.0\n",
    "    num_miss_train = 0\n",
    "\n",
    "    for i in range(k+1):\n",
    "        if np.argmax(Ypred[i]) != np.argmax(Y[i]):\n",
    "            num_miss_train = num_miss_train + 1\n",
    "    miss_train = num_miss_train / 1000.0\n",
    "    \n",
    "    mse_test = square_norm(Ytestpred - Ytest) / 1000.0\n",
    "    num_miss_test = 0\n",
    "    for i in range(k+1):\n",
    "        if np.argmax(Ytestpred[i]) != np.argmax(Ytest[i]):\n",
    "            num_miss_test = num_miss_test + 1\n",
    "    miss_test = num_miss_test / 1000.0\n",
    "    \n",
    "    return Wopt, mse_train, miss_train, mse_test, miss_test"
   ]
  },
  {
   "cell_type": "code",
   "execution_count": null,
   "metadata": {},
   "outputs": [],
   "source": [
    "_, mse_train, miss_train, mse_test, miss_test = linear_regression(vectors, 40)\n",
    "print('mse_train = {}, miss_train = {}, mse_test = {}, miss_test = {}'.format(mse_train, miss_train, mse_test, miss_test))"
   ]
  },
  {
   "cell_type": "code",
   "execution_count": null,
   "metadata": {},
   "outputs": [],
   "source": []
  }
 ],
 "metadata": {
  "kernelspec": {
   "display_name": "Python 3",
   "language": "python",
   "name": "python3"
  },
  "language_info": {
   "codemirror_mode": {
    "name": "ipython",
    "version": 3
   },
   "file_extension": ".py",
   "mimetype": "text/x-python",
   "name": "python",
   "nbconvert_exporter": "python",
   "pygments_lexer": "ipython3",
   "version": "3.6.7"
  }
 },
 "nbformat": 4,
 "nbformat_minor": 2
}
