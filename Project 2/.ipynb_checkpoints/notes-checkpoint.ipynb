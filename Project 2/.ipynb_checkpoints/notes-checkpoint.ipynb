{
 "cells": [
  {
   "cell_type": "markdown",
   "metadata": {},
   "source": [
    "# Machine Learning\n",
    "## Miniproject 2\n",
    "Dragi Kamov and Aadil Kumar"
   ]
  },
  {
   "cell_type": "markdown",
   "metadata": {},
   "source": [
    "## Used libraries"
   ]
  },
  {
   "cell_type": "code",
   "execution_count": 5,
   "metadata": {},
   "outputs": [],
   "source": [
    "import numpy as np\n",
    "import matplotlib.pyplot as plt\n",
    "from numpy import linalg as la\n",
    "from sklearn.decomposition import PCA"
   ]
  },
  {
   "cell_type": "markdown",
   "metadata": {},
   "source": [
    "## Loading data"
   ]
  },
  {
   "cell_type": "code",
   "execution_count": 6,
   "metadata": {},
   "outputs": [],
   "source": [
    "vectors = np.loadtxt('data/mfeat-pix.txt')"
   ]
  },
  {
   "cell_type": "markdown",
   "metadata": {},
   "source": [
    "## Feature extraction \n",
    "Feature extraction is a dimensionality reduction process used in machine learning to derive values (features) that are important from a dataset and thus reduce it to more manageable groups for processing."
   ]
  },
  {
   "cell_type": "markdown",
   "metadata": {},
   "source": [
    "## Types of features \n",
    "There are three main types of features and those are:\n",
    "- K-means based features are features that group a collection of data points into related clusters $C_1,..., C_K$, each of them being represented by a codebook vector $c_i$.\n",
    "- Hand-made features refer to properties derived from human insight on information that is in the images\n",
    "- Principal Component Analysis (PCA) extracts features by converting a set of observations of possibly correlated variables into a set of values of linearly uncorrelated variables (principal components) using an orthogonal transformation."
   ]
  },
  {
   "cell_type": "markdown",
   "metadata": {},
   "source": [
    "## In our program, we will use PCA for feature extraction:\n",
    "### The steps in PCA algorithm follows:"
   ]
  },
  {
   "cell_type": "markdown",
   "metadata": {},
   "source": [
    "- centering the data: mapping each vector $x_i \\to \\bar{x_i}$, where $\\bar{x_i} = x_i - \\bar{x}$\n",
    " - calculating the $\\mu_1, \\mu_2, ... \\mu_m$, where $m$ is the number of principle components\n",
    "   $\\mu_i$ is calculated via $SVD$ algorithm.\n",
    "   \n",
    "   1. We calculate the correlation matrix $R$.\n",
    "   2. Calculate the SVD via $$[U, \\Sigma, V^*] = SVD(R)$$, where\n",
    "   $$ R = U \\Sigma V^* $$\n",
    "   3. Extract the principle components $\\mu_1, \\mu_2, ... \\mu_m$, where $ m < n$, by taking the first $m$ columns of $U$. \n",
    " - Compression: we take each $\\mu_1, \\mu_2, \\mu_3 ... $ and dot product the already centered $\\bar{x_i}$ to obtain a vector $v \\in \\mathbb{R}^m$\n",
    " \\begin{align*}\n",
    " v = \\begin{bmatrix}\n",
    " \\mu_1 \\cdot \\bar{x_i} \\\\\n",
    "  \\mu_2 \\cdot \\bar{x_i} \\\\\n",
    "   \\mu_3 \\cdot \\bar{x_i} \\\\\n",
    "    \\mu_4 \\cdot \\bar{x_i} \\\\\n",
    "    ... \\\\\n",
    "    \\mu_m \\cdot \\bar{x_i}\n",
    " \\end{bmatrix}\n",
    " \\end{align*}\n",
    " - Decompression: we simply calculate\n",
    " $$ recovered = \\sum_{i = 1}^{m} v_i \\cdot \\mu_i $$"
   ]
  },
  {
   "cell_type": "markdown",
   "metadata": {},
   "source": [
    "Additionally, we split the training data into training set $X$ and test set $Xtest$, and build its associated label one-hot encoding vector matrix $Y$ and $Ytest$ "
   ]
  },
  {
   "cell_type": "markdown",
   "metadata": {},
   "source": [
    "## Adding bais\n",
    "\n",
    "We then create a fuction to add the bias term to the features. Linear regression will create a model based on offine function, which contains a bais term. Without it, we can only approximate the data using linear function, and it would lead to a very bad model."
   ]
  },
  {
   "cell_type": "code",
   "execution_count": 7,
   "metadata": {},
   "outputs": [],
   "source": [
    "def add_bais(X):\n",
    "    N, D = X.shape\n",
    "    Y = np.ones((N, D + 1))\n",
    "    Y[:,:-1] = X\n",
    "    return Y\n",
    "def square_norm(x):\n",
    "    return np.sum(np.power(x, 2))"
   ]
  },
  {
   "cell_type": "markdown",
   "metadata": {},
   "source": [
    "## Use One-hot encoding to generate class vector\n",
    "Since the dataset doesn't contain any kind of label, we need to generate a class vector for each label $\\{0, 1, 2, ... 10\\}$ as $v \\in \\mathbb{R}^{10}$. The following function will execute such a strategy."
   ]
  },
  {
   "cell_type": "code",
   "execution_count": 8,
   "metadata": {},
   "outputs": [],
   "source": [
    "def onehot_encode(digit):\n",
    "    rst = np.zeros(10)\n",
    "    rst[digit] = 1\n",
    "    return rst"
   ]
  },
  {
   "cell_type": "markdown",
   "metadata": {},
   "source": [
    "# Linear Regression Implementation\n",
    "For a given dataset $data$ and a fixed number of feature $k$,\n",
    "our algorithm of linear regression proceed as the following:\n",
    "1. Performing a PCA algorithm to reduce the dimensions of $data$ from $\\mathbb{R}^{240}$ to $\\mathbb{R}^{k}$. Thus, we can view PCA algorithms as a function $PCA: \\mathbb{R}^{240} \\to \\mathbb{R}^{k}$\n",
    "2. Split the entire dataset after dimension reduction into training set features $X \\in \\mathbb{R}^{1000 \\times k}$ and test set features $X_{test} \\in \\mathbb{R}^{1000 \\times k}$\n",
    "3. Associate $X$ and $X_{test}$ with bias term, thus we have $X, X_{test} \\in \\mathbb{R}^{1000 \\times (K + 1)}$ \n",
    "4. Build the correct class vector for training set as $Y \\in \\mathbb{R}^{1000 \\times 10}$ and test set as $Y_{test} \\in \\mathbb{R}^{1000 \\times 10}$. After such operation, we obtained the complete training set as $(X, Y)$ and the test set as $(X_{test}, Y_{test})$\n",
    "5. Using the training set, compute the optimal weight matrix as\n",
    "$$ {W_{opt}}^\\top = (\\frac{1}{N} \\cdot X \\cdot X^\\top + \\alpha^2 \\cdot I_{nxn})^{-1} \\cdot \\frac{1}{N} \\cdot X \\cdot Y $$\n",
    "we can rewrite as\n",
    "$$ W_{opt} = ((\\frac{1}{N} \\cdot X \\cdot X^\\top + \\alpha^2 \\cdot I_{nxn})^{-1} \\cdot \\frac{1}{N} \\cdot X \\cdot Y)^\\top $$\n",
    "6. Calculate the error term.\n",
    "First, we make the prediction:\n",
    "$$ Y_{pred} = (W_{opt} \\cdot X)^\\top $$\n",
    "$$ Y_{test}pred = (W_{opt} \\cdot X_{test})^\\top $$\n",
    "Using the prediction, we calculate the corresponding error\n",
    "$$ MSE_{train} = \\frac{\\|Y - Ypred\\|^2}{1000} $$\n",
    "$$ MSE_{test} = \\frac{\\|Ytest - Y_{test}pred\\|^2}{1000} $$\n",
    "$$ MISS_{train} = \\frac{\\sum_{i = 1}^{1000} \\min(1, \\|\\arg\\max(Y_i) - \\arg\\max(Ypred_i)\\|)}{1000} $$\n",
    "$$ MISS_{test} = \\frac{\\sum_{i = 1}^{1000} \\min(1, \\|\\arg\\max({Y_{test}}_i) - \\arg\\max(Y_{test}pred_i)\\|)}{1000} $$"
   ]
  },
  {
   "cell_type": "code",
   "execution_count": 12,
   "metadata": {},
   "outputs": [],
   "source": [
    "def linear_regression(data, k):\n",
    "    # do a linear regression on feature of number k\n",
    "    \n",
    "    #perform pca\n",
    "    pca = PCA(n_components=k)\n",
    "    data_pca = pca.fit_transform(data)\n",
    "    \n",
    "    # split the training set\n",
    "    X = np.ones((1000, k))\n",
    "    Xtest = np.ones((1000, k))\n",
    "    for i in range(10):\n",
    "        X[i*100:i*100 + 100][:] = data_pca[i*200:i*200 + 100][:]\n",
    "        Xtest[i*100:i*100 + 100][:] = data_pca[i*200 + 100:i*200 + 200][:]\n",
    "    \n",
    "    # add bias term\n",
    "    X = add_bais(X)\n",
    "    Xtest = add_bais(Xtest)\n",
    "    \n",
    "    # build the class\n",
    "    Y = np.zeros((k + 1, 10))\n",
    "    Ytest = np.zeros((k + 1, 10))\n",
    "    \n",
    "    for i in range(k + 1):\n",
    "        digit = i // 100\n",
    "        Y[i] = onehot_encode(digit).T #assign the one-hot encoding\n",
    "        Ytest[i] = onehot_encode(digit).T #same here\n",
    "        \n",
    "    # calculate the optimal weight\n",
    "    Wopt = (np.dot(la.inv((1/1000) * np.matmul(X, X.T) + (10 * np.eye(1000))) * (1/1000), np.matmul(X, Y))).T\n",
    "    \n",
    "    #calculate the training error term\n",
    "    # first make the prediction\n",
    "    Ypred = np.matmul(Wopt, X).T\n",
    "    Ytestpred = np.matmul(Wopt, Xtest).T\n",
    "    \n",
    "    #calculate the error\n",
    "    mse_train = square_norm(Ypred - Y) / 1000.0\n",
    "    num_miss_train = 0\n",
    "\n",
    "    for i in range(k+1):\n",
    "        if np.argmax(Ypred[i]) != np.argmax(Y[i]):\n",
    "            num_miss_train = num_miss_train + 1\n",
    "    miss_train = num_miss_train / 1000.0\n",
    "    \n",
    "    mse_test = square_norm(Ytestpred - Ytest) / 1000.0\n",
    "    num_miss_test = 0\n",
    "    for i in range(k+1):\n",
    "        if np.argmax(Ytestpred[i]) != np.argmax(Ytest[i]):\n",
    "            num_miss_test = num_miss_test + 1\n",
    "    miss_test = num_miss_test / 1000.0\n",
    "    \n",
    "    return Wopt, mse_train, miss_train, mse_test, miss_test"
   ]
  },
  {
   "cell_type": "code",
   "execution_count": 13,
   "metadata": {},
   "outputs": [
    {
     "name": "stdout",
     "output_type": "stream",
     "text": [
      "mse_train = 0.009664604595637099, miss_train = 0.0, mse_test = 0.0350114953810245, miss_test = 0.014\n"
     ]
    }
   ],
   "source": [
    "_, mse_train, miss_train, mse_test, miss_test = linear_regression(vectors, 40)\n",
    "print('mse_train = {}, miss_train = {}, mse_test = {}, miss_test = {}'.format(mse_train, miss_train, mse_test, miss_test))"
   ]
  },
  {
   "cell_type": "markdown",
   "metadata": {},
   "source": [
    "# Plotting the k and the errors\n",
    "We variate k and check to see how the error changes\n",
    "1. First, plot the data using linear scaling"
   ]
  },
  {
   "cell_type": "code",
   "execution_count": 14,
   "metadata": {},
   "outputs": [
    {
     "data": {
      "image/png": "[encoded data removed]",
      "text/plain": [
       "<Figure size 432x288 with 1 Axes>"
      ]
     },
     "metadata": {
      "needs_background": "light"
     },
     "output_type": "display_data"
    }
   ],
   "source": [
    "ks = []\n",
    "mse_trains = []\n",
    "miss_trains = []\n",
    "mse_tests = []\n",
    "miss_tests = []\n",
    "for k in range(1, 241):\n",
    "    _, mse_train, miss_train, mse_test, miss_test = linear_regression(vectors, k)\n",
    "    ks.append(k)\n",
    "    mse_trains.append(mse_train)\n",
    "    miss_trains.append(miss_train)\n",
    "    mse_tests.append(mse_test)\n",
    "    miss_tests.append(miss_test)\n",
    "    \n",
    "plt.xlabel('k')\n",
    "plt.ylabel('error')\n",
    "plt.title('Bias-Variance, Linear Scaling')\n",
    "plt.grid(True)\n",
    "p1, = plt.plot(ks, mse_trains, label = 'mse_train')\n",
    "p2, = plt.plot(ks, mse_tests, label = 'mse_test')\n",
    "p3, = plt.plot(ks, miss_trains, label = 'miss_train')\n",
    "p4, = plt.plot(ks, miss_tests, label = 'miss_test')\n",
    "plt.legend(handles=[p1, p2, p3, p4])\n",
    "plt.show()"
   ]
  },
  {
   "cell_type": "markdown",
   "metadata": {},
   "source": [
    "2. Then, use log-log scaling of the data"
   ]
  },
  {
   "cell_type": "code",
   "execution_count": 16,
   "metadata": {},
   "outputs": [
    {
     "name": "stderr",
     "output_type": "stream",
     "text": [
      "/usr/local/lib/python3.6/dist-packages/ipykernel_launcher.py:8: RuntimeWarning: divide by zero encountered in log\n",
      "  \n",
      "/usr/local/lib/python3.6/dist-packages/ipykernel_launcher.py:9: RuntimeWarning: divide by zero encountered in log\n",
      "  if __name__ == '__main__':\n"
     ]
    },
    {
     "data": {
      "image/png": "[encoded data removed]",
      "text/plain": [
       "<Figure size 432x288 with 1 Axes>"
      ]
     },
     "metadata": {
      "needs_background": "light"
     },
     "output_type": "display_data"
    }
   ],
   "source": [
    "# use log, log plot\n",
    "plt.xlabel('log(k)')\n",
    "plt.ylabel('log(error)')\n",
    "plt.title('Bias-Variance, Log-log Scaling')\n",
    "plt.grid(True)\n",
    "p1, = plt.plot(np.log(ks), np.log(mse_trains), label = 'mse_train')\n",
    "p2, = plt.plot(np.log(ks), np.log(mse_tests), label = 'mse_test')\n",
    "p3, = plt.plot(np.log(ks), np.log(miss_trains), label = 'miss_train')\n",
    "p4, = plt.plot(np.log(ks), np.log(miss_tests), label = 'miss_test')\n",
    "plt.legend(handles=[p1, p2, p3, p4])\n",
    "plt.show()"
   ]
  },
  {
   "cell_type": "code",
   "execution_count": null,
   "metadata": {},
   "outputs": [],
   "source": []
  }
 ],
 "metadata": {
  "kernelspec": {
   "display_name": "Python 3",
   "language": "python",
   "name": "python3"
  },
  "language_info": {
   "codemirror_mode": {
    "name": "ipython",
    "version": 3
   },
   "file_extension": ".py",
   "mimetype": "text/x-python",
   "name": "python",
   "nbconvert_exporter": "python",
   "pygments_lexer": "ipython3",
   "version": "3.6.7"
  }
 },
 "nbformat": 4,
 "nbformat_minor": 2
}
