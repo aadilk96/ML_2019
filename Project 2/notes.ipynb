{
 "cells": [
  {
   "cell_type": "markdown",
   "metadata": {},
   "source": [
    "# Machine Learning\n",
    "## Miniproject 2\n",
    "Dragi Kamov and Aadil Kumar"
   ]
  },
  {
   "cell_type": "markdown",
   "metadata": {},
   "source": [
    "## Used libraries"
   ]
  },
  {
   "cell_type": "code",
   "execution_count": 1,
   "metadata": {},
   "outputs": [],
   "source": [
    "import numpy as np\n",
    "import matplotlib.pyplot as plt\n",
    "from numpy import linalg as la\n",
    "from sklearn.decomposition import PCA"
   ]
  },
  {
   "cell_type": "markdown",
   "metadata": {},
   "source": [
    "## Loading data"
   ]
  },
  {
   "cell_type": "code",
   "execution_count": 2,
   "metadata": {},
   "outputs": [],
   "source": [
    "vectors = np.loadtxt('data/mfeat-pix.txt')\n",
    "ones = vectors[200:400]"
   ]
  },
  {
   "cell_type": "markdown",
   "metadata": {},
   "source": [
    "## Visualization functions"
   ]
  },
  {
   "cell_type": "code",
   "execution_count": 3,
   "metadata": {},
   "outputs": [],
   "source": [
    "def showImage(vectors):\n",
    "    imageMatrix = vectors.reshape(16, 15)\n",
    "    plt.imshow(imageMatrix, cmap = 'gray')\n",
    "    plt.show()\n",
    "    \n",
    "def multImage(vectors): \n",
    "    for rows in vectors: \n",
    "        showImage(rows)"
   ]
  },
  {
   "cell_type": "markdown",
   "metadata": {},
   "source": [
    "## Feature extraction \n",
    "Feature extraction is a dimensionality reduction process used in machine learning to derive values (features) that are important from a dataset and thus reduce it to more manageable groups for processing."
   ]
  },
  {
   "cell_type": "markdown",
   "metadata": {},
   "source": [
    "## Types of features \n",
    "There are three main types of features and those are:\n",
    "- K-means based features are features that group a collection of data points into related clusters $ C_1, ..., C_K $, each of them being represented by a codebook vector $ c_i $.\n",
    "- Hand-made features are referring to properties derived from human insight on information that is in the images.\n",
    "- Principal Component Analysis (PCA) is a feature that reduces the dimensionality of a data set consisting of many variables correlated with each other, while retaining the variation present in the dataset, up to the maximum extent."
   ]
  },
  {
   "cell_type": "markdown",
   "metadata": {},
   "source": [
    "In this assignment we will use PCA for feature extraction.\n",
    "### Steps for principal component analysis (PCA):"
   ]
  },
  {
   "cell_type": "markdown",
   "metadata": {},
   "source": [
    "1. Prepare the data (standardization):\n",
    "    - Center the data: subtract the mean from each variable. This produces a data set whose mean is zero.\n",
    "    - Scale the data: If the variances of the variables in your data are significantly different, it's a good idea to scale the data to unit variance. This is achieved by dividing each variables by its standard deviation.\n",
    "2. Calculate the covariance/correlation matrix\n",
    "3. Compute SVD of the covariance/correlation matrix\n",
    "4. Compute the new dataset\n",
    "    - We need to compress and decompress the data using the principle component\n",
    "    - And then in order to compute the new dataset we need to recover from the standardization"
   ]
  },
  {
   "cell_type": "code",
   "execution_count": 4,
   "metadata": {},
   "outputs": [],
   "source": [
    "def standardization(data):\n",
    "    # standardization of the data set\n",
    "    mean = np.sum(data, axis = 0)\n",
    "    N, _ = data.shape\n",
    "    mean = mean / float(N)\n",
    "    mean_mat = [mean] * N\n",
    "    standardized = data - mean_mat\n",
    "    return standardized, mean\n",
    "\n",
    "def destandardization(standardized, mean):\n",
    "    # recover from the standardization\n",
    "    N, _ = standardized.shape\n",
    "    mean_mat = [mean] * N\n",
    "    data = standardized + mean_mat\n",
    "    return data"
   ]
  },
  {
   "cell_type": "code",
   "execution_count": 5,
   "metadata": {},
   "outputs": [],
   "source": [
    "def compress(standardized, pc, k):\n",
    "    # compress the standardized data using the princle component, pc\n",
    "    pc = pc[:, :k]\n",
    "    return np.matmul(standardized, pc)\n",
    "\n",
    "def decompress(compressed, pc, k):\n",
    "    # recover from compression\n",
    "    pc = pc[:, :k]\n",
    "    return np.matmul(compressed, pc.T)"
   ]
  },
  {
   "cell_type": "code",
   "execution_count": 6,
   "metadata": {},
   "outputs": [],
   "source": [
    "def pca(data, k):\n",
    "    # first standardize the data\n",
    "    standardized_data, mean_data = standardization(data)\n",
    "\n",
    "    # calculate the covariance/correlation matrix\n",
    "    R = np.corrcoef(standardized_data.T)\n",
    "\n",
    "    # compute the SVD\n",
    "    u, s, _ = la.svd(R)\n",
    "    return decompress(compress(standardized_data, u, k), u, k), mean_data"
   ]
  },
  {
   "cell_type": "markdown",
   "metadata": {},
   "source": [
    "An example of PCA with k = 4 on the digit 1 from the dataset would look like this:"
   ]
  },
  {
   "cell_type": "code",
   "execution_count": 7,
   "metadata": {},
   "outputs": [
    {
     "data": {
      "image/png": "[encoded data removed]",
      "text/plain": [
       "<Figure size 432x288 with 1 Axes>"
      ]
     },
     "metadata": {
      "needs_background": "light"
     },
     "output_type": "display_data"
    },
    {
     "data": {
      "image/png": "[encoded data removed]",
      "text/plain": [
       "<Figure size 432x288 with 1 Axes>"
      ]
     },
     "metadata": {
      "needs_background": "light"
     },
     "output_type": "display_data"
    }
   ],
   "source": [
    "pca_data, mean_data = pca(ones, 4)\n",
    "multImage(destandardization(pca_data, mean_data)[:2])"
   ]
  },
  {
   "cell_type": "markdown",
   "metadata": {},
   "source": [
    "An example of PCA with k = 199 on the same dataset"
   ]
  },
  {
   "cell_type": "code",
   "execution_count": 8,
   "metadata": {},
   "outputs": [
    {
     "data": {
      "image/png": "[encoded data removed]",
      "text/plain": [
       "<Figure size 432x288 with 1 Axes>"
      ]
     },
     "metadata": {
      "needs_background": "light"
     },
     "output_type": "display_data"
    },
    {
     "data": {
      "image/png": "[encoded data removed]",
      "text/plain": [
       "<Figure size 432x288 with 1 Axes>"
      ]
     },
     "metadata": {
      "needs_background": "light"
     },
     "output_type": "display_data"
    }
   ],
   "source": [
    "pca_data, mean_data = pca(ones, 199)\n",
    "multImage(destandardization(pca_data, mean_data)[:2])"
   ]
  },
  {
   "cell_type": "markdown",
   "metadata": {},
   "source": [
    "## Adding bias\n",
    "\n",
    "A function to add a bias term to all the features. Linear Regression creates a model based on a offine function, which contains a bias term. Without the bias term we can only approximate the data using a linear function, leading to a ineffective model."
   ]
  },
  {
   "cell_type": "code",
   "execution_count": 9,
   "metadata": {},
   "outputs": [],
   "source": [
    "def addBias(dataset):\n",
    "    R, C = dataset.shape\n",
    "    biased = np.ones((R, C + 1))\n",
    "    biased[:,:-1] = dataset\n",
    "    return biased\n",
    "\n",
    "def squareNorm(val):\n",
    "    return np.sum(np.power(val, 2))"
   ]
  },
  {
   "cell_type": "markdown",
   "metadata": {},
   "source": [
    "## Use One-hot encoding to generate class vector\n",
    "Since the dataset doesn't contain any kind of label, we need to generate a class vector for each label $\\{0, 1, 2, ... 10\\}$ as $v \\in \\mathbb{R}^{10}$. The following function will execute such a strategy."
   ]
  },
  {
   "cell_type": "code",
   "execution_count": 10,
   "metadata": {},
   "outputs": [],
   "source": [
    "def oneHotEncode(digit):\n",
    "    encoded = np.zeros(10)\n",
    "    encoded[digit] = 1\n",
    "    return encoded"
   ]
  },
  {
   "cell_type": "markdown",
   "metadata": {},
   "source": [
    "# Linear Regression Implementation\n",
    "For a given dataset $vectors$ and a fixed number of feature $k$, our linear regression algorithm executes with the following steps:\n",
    "1. Executes the PCA algorithm to reduce the dimensionality of $vectors$ from $\\mathbb{R}^{240}$ to $\\mathbb{R}^{k}$. Thus, we can view PCA algorithms as a function $PCA: \\mathbb{R}^{240} \\to \\mathbb{R}^{k}$\n",
    "2. Splits the entire dataset into a training set with features $X \\in \\mathbb{R}^{1000 \\times k}$ and a test set with features $X_{test} \\in \\mathbb{R}^{1000 \\times k}$\n",
    "3. Adds bias terms to $X$ and $X_{test}$, giving us $X, X_{test} \\in \\mathbb{R}^{1000 \\times (K + 1)}$ \n",
    "4. Creates the class vectors for the training set as $Y \\in \\mathbb{R}^{(k + 1) \\times 10}$ and the test set as $Y_{test} \\in \\mathbb{R}^{(k + 1) \\times 10}$. We then obtain the training set as $(X, Y)$ and the test set as $(X_{test}, Y_{test})$\n",
    "5. Using the training set, it computes the optimal weight matrix as\n",
    "$$ {W_{opt}}^\\top = (\\frac{1}{N} \\cdot X^\\top \\cdot X + \\alpha^2 \\cdot I_{nxn})^{-1} \\cdot \\frac{1}{N} \\cdot X^\\top \\cdot Y $$\n",
    "which we can rewrite as\n",
    "$$ W_{opt} = ((\\frac{1}{N} \\cdot X^\\top \\cdot X + \\alpha^2 \\cdot I_{nxn})^{-1} \\cdot \\frac{1}{N} \\cdot X^\\top \\cdot Y)^\\top $$\n",
    "6. Calculates the error term by,\n",
    "First, making a prediction:\n",
    "$$ Y_{pred} = (W_{opt} \\cdot X^\\top)^\\top $$\n",
    "$$ Y_{test}pred = (W_{opt} \\cdot {X_{test}}^\\top)^\\top $$\n",
    "Using the prediction, to calculate the corresponding error\n",
    "$$ MSE_{train} = \\frac{\\|Y - Ypred\\|^2}{1000} $$\n",
    "$$ MSE_{test} = \\frac{\\|Ytest - Y_{test}pred\\|^2}{1000} $$\n",
    "$$ MISS_{train} = \\frac{\\sum_{i = 1}^{1000} \\min(1, \\|\\arg\\max(Y_i) - \\arg\\max(Ypred_i)\\|)}{1000} $$\n",
    "$$ MISS_{test} = \\frac{\\sum_{i = 1}^{1000} \\min(1, \\|\\arg\\max({Y_{test}}_i) - \\arg\\max(Y_{test}pred_i)\\|)}{1000} $$"
   ]
  },
  {
   "cell_type": "code",
   "execution_count": 11,
   "metadata": {},
   "outputs": [],
   "source": [
    "def linearRegression(data, k):\n",
    "    \n",
    "    # Executing PCA\n",
    "    pca = PCA(n_components=k)\n",
    "    data_pca = pca.fit_transform(data)\n",
    "    \n",
    "    # Splitting the training set\n",
    "    X = np.ones((1000, k))\n",
    "    Xtest = np.ones((1000, k))\n",
    "    \n",
    "    for i in range(10):\n",
    "        X[i * 100 : i * 100 + 100][:] = data_pca[i * 200 : i * 200 + 100][:]\n",
    "        Xtest[i * 100 : i * 100 + 100][:] = data_pca[i * 200 + 100 : i * 200 + 200][:]\n",
    "    \n",
    "    # Adding bias terms\n",
    "    X = addBias(X)\n",
    "    Xtest = addBias(Xtest)\n",
    "    \n",
    "    # Creating the class\n",
    "    Y = np.zeros((1000, 10))\n",
    "    Ytest = np.zeros((1000, 10))\n",
    "    \n",
    "    for i in range(1000):\n",
    "        digit = i // 100\n",
    "        # One-hot encoding\n",
    "        Y[i] = oneHotEncode(digit).T \n",
    "        Ytest[i] = oneHotEncode(digit).T \n",
    "        \n",
    "    # Calc optimal weight\n",
    "    left = la.inv((1/1000) * np.matmul(X.T, X) + (0 * np.eye(k + 1))) * (1/1000)\n",
    "    right = np.matmul(X.T, Y)\n",
    "    Wopt = (np.dot(left,right)).T\n",
    "    \n",
    "    # Calc training error term\n",
    "    # Making a prediction initially\n",
    "    Ypred = np.matmul(Wopt, X.T).T\n",
    "    Ytestpred = np.matmul(Wopt, Xtest.T).T\n",
    "    \n",
    "    # Calc error\n",
    "    mse_train = squareNorm(Ypred - Y) / 1000.0\n",
    "    num_miss_train = 0\n",
    "\n",
    "    for i in range(1000):\n",
    "        if np.argmax(Ypred[i]) != np.argmax(Y[i]):\n",
    "            num_miss_train = num_miss_train + 1\n",
    "    miss_train = num_miss_train / 1000.0\n",
    "    \n",
    "    mse_test = squareNorm(Ytestpred - Ytest) / 1000.0\n",
    "    num_miss_test = 0\n",
    "    \n",
    "    for i in range(1000):\n",
    "        if np.argmax(Ytestpred[i]) != np.argmax(Ytest[i]):\n",
    "            num_miss_test = num_miss_test + 1\n",
    "            \n",
    "    miss_test = num_miss_test / 1000.0\n",
    "    \n",
    "    return Wopt, mse_train, miss_train, mse_test, miss_test"
   ]
  },
  {
   "cell_type": "code",
   "execution_count": 12,
   "metadata": {},
   "outputs": [
    {
     "name": "stdout",
     "output_type": "stream",
     "text": [
      "MSE Train = 0.303979701899785 , Miss Train = 0.053 , MSE Test = 0.3218656395527205 , Miss Test = 0.057\n"
     ]
    }
   ],
   "source": [
    "_, mse_train, miss_train, mse_test, miss_test = linearRegression(vectors, 40)\n",
    "print(\"MSE Train =\", mse_train, \", Miss Train =\", miss_train, \", MSE Test =\", mse_test, \", Miss Test =\",miss_test)"
   ]
  },
  {
   "cell_type": "markdown",
   "metadata": {},
   "source": [
    "# Plotting the k and the errors\n",
    "We variate k and check to see how the error changes\n",
    "1. First, plot the data using linear scaling"
   ]
  },
  {
   "cell_type": "code",
   "execution_count": 13,
   "metadata": {},
   "outputs": [
    {
     "data": {
      "image/png": "[encoded data removed]",
      "text/plain": [
       "<Figure size 432x288 with 1 Axes>"
      ]
     },
     "metadata": {
      "needs_background": "light"
     },
     "output_type": "display_data"
    }
   ],
   "source": [
    "# Plotting the k and the errors\n",
    "ks = []\n",
    "mse_trains = []\n",
    "miss_trains = []\n",
    "mse_tests = []\n",
    "miss_tests = []\n",
    "for k in range(1, 241):\n",
    "    _, mse_train, miss_train, mse_test, miss_test = linearRegression(vectors, k)\n",
    "    ks.append(k)\n",
    "    mse_trains.append(mse_train)\n",
    "    miss_trains.append(miss_train)\n",
    "    mse_tests.append(mse_test)\n",
    "    miss_tests.append(miss_test)\n",
    "\n",
    "plt.xlabel('k')\n",
    "plt.ylabel('error')\n",
    "plt.title('Bias-Variance, Linear Scaling')\n",
    "plt.grid(True)\n",
    "p1, = plt.plot(ks, mse_trains, label = 'mse_train')\n",
    "p2, = plt.plot(ks, mse_tests, label = 'mse_test')\n",
    "p3, = plt.plot(ks, miss_trains, label = 'miss_train')\n",
    "p4, = plt.plot(ks, miss_tests, label = 'miss_test')\n",
    "plt.legend(handles=[p1, p2, p3, p4])\n",
    "plt.show()"
   ]
  },
  {
   "cell_type": "markdown",
   "metadata": {},
   "source": [
    "2. Then, use log-log scaling of the data"
   ]
  },
  {
   "cell_type": "code",
   "execution_count": 14,
   "metadata": {},
   "outputs": [
    {
     "data": {
      "image/png": "[encoded data removed]",
      "text/plain": [
       "<Figure size 432x288 with 1 Axes>"
      ]
     },
     "metadata": {
      "needs_background": "light"
     },
     "output_type": "display_data"
    }
   ],
   "source": [
    "# Log plot\n",
    "plt.xlabel('log(k)')\n",
    "plt.ylabel('log(error)')\n",
    "plt.title('Bias-Variance, Log-log Scaling')\n",
    "plt.grid(True)\n",
    "p1, = plt.plot(np.log(ks), np.log(mse_trains), label = 'mse_train')\n",
    "p2, = plt.plot(np.log(ks), np.log(mse_tests), label = 'mse_test')\n",
    "p3, = plt.plot(np.log(ks), np.log(miss_trains), label = 'miss_train')\n",
    "p4, = plt.plot(np.log(ks), np.log(miss_tests), label = 'miss_test')\n",
    "plt.legend(handles=[p1, p2, p3, p4])\n",
    "plt.show()"
   ]
  },
  {
   "cell_type": "code",
   "execution_count": 15,
   "metadata": {},
   "outputs": [
    {
     "name": "stdout",
     "output_type": "stream",
     "text": [
      "MSE Train = 0.8172359115739828 , Miss Train = 0.8 , MSE Test = 0.8178985003684022 , Miss Test = 0.8\n"
     ]
    }
   ],
   "source": [
    "_, mse_train, miss_train, mse_test, miss_test = linearRegression(vectors, 1)\n",
    "print(\"MSE Train =\", mse_train, \", Miss Train =\", miss_train, \", MSE Test =\", mse_test, \", Miss Test =\",miss_test)"
   ]
  },
  {
   "cell_type": "code",
   "execution_count": 16,
   "metadata": {},
   "outputs": [
    {
     "name": "stdout",
     "output_type": "stream",
     "text": [
      "MSE Train = 0.21269006612474484 , Miss Train = 0.019 , MSE Test = 0.3738118732873061 , Miss Test = 0.083\n"
     ]
    }
   ],
   "source": [
    "_, mse_train, miss_train, mse_test, miss_test = linearRegression(vectors, 240)\n",
    "print(\"MSE Train =\", mse_train, \", Miss Train =\", miss_train, \", MSE Test =\", mse_test, \", Miss Test =\",miss_test)"
   ]
  },
  {
   "cell_type": "code",
   "execution_count": 17,
   "metadata": {},
   "outputs": [
    {
     "name": "stdout",
     "output_type": "stream",
     "text": [
      "MSE Train = 0.30958408963762035 , Miss Train = 0.053 , MSE Test = 0.3248403433488668 , Miss Test = 0.056\n"
     ]
    }
   ],
   "source": [
    "_, mse_train, miss_train, mse_test, miss_test = linearRegression(vectors, 36)\n",
    "print(\"MSE Train =\", mse_train, \", Miss Train =\", miss_train, \", MSE Test =\", mse_test, \", Miss Test =\",miss_test)"
   ]
  }
 ],
 "metadata": {
  "kernelspec": {
   "display_name": "Python 3",
   "language": "python",
   "name": "python3"
  },
  "language_info": {
   "codemirror_mode": {
    "name": "ipython",
    "version": 3
   },
   "file_extension": ".py",
   "mimetype": "text/x-python",
   "name": "python",
   "nbconvert_exporter": "python",
   "pygments_lexer": "ipython3",
   "version": "3.6.7"
  }
 },
 "nbformat": 4,
 "nbformat_minor": 2
}
