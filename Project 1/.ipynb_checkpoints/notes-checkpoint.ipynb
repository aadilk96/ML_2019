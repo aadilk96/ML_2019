{
 "cells": [
  {
   "cell_type": "markdown",
   "metadata": {},
   "source": [
    "# Machine Learning\n",
    "## Miniproject 1\n",
    "Dragi Kamov and Aadil Kumar"
   ]
  },
  {
   "cell_type": "markdown",
   "metadata": {},
   "source": [
    "## Used libraries"
   ]
  },
  {
   "cell_type": "code",
   "execution_count": 1,
   "metadata": {},
   "outputs": [],
   "source": [
    "import numpy as np \n",
    "import matplotlib.pyplot as plt"
   ]
  },
  {
   "cell_type": "markdown",
   "metadata": {},
   "source": [
    "## Loading data"
   ]
  },
  {
   "cell_type": "code",
   "execution_count": 2,
   "metadata": {},
   "outputs": [],
   "source": [
    "vectors = np.loadtxt('data/mfeat-pix.txt')\n",
    "zeros = vectors[0:200]"
   ]
  },
  {
   "cell_type": "markdown",
   "metadata": {},
   "source": [
    "## Visualization functions"
   ]
  },
  {
   "cell_type": "code",
   "execution_count": 3,
   "metadata": {},
   "outputs": [],
   "source": [
    "def showImage(vectors):\n",
    "    imageMatrix = vectors.reshape(16, 15)\n",
    "    plt.imshow(imageMatrix, cmap = 'gray')\n",
    "    plt.show()\n",
    "    \n",
    "def multImage(vectors): \n",
    "    for rows in vectors: \n",
    "        showImage(rows)"
   ]
  },
  {
   "cell_type": "markdown",
   "metadata": {},
   "source": [
    "## Implementation of K-means algorithm"
   ]
  },
  {
   "cell_type": "code",
   "execution_count": 4,
   "metadata": {},
   "outputs": [],
   "source": [
    "def euclideanDistance(p1, p2):\n",
    "    diff = p1 - p2\n",
    "    s = np.sum(np.power(diff, 2))\n",
    "    return np.sqrt(s)"
   ]
  },
  {
   "cell_type": "markdown",
   "metadata": {},
   "source": [
    "#### Returns the index of the points with the lowest distance to the centroids"
   ]
  },
  {
   "cell_type": "code",
   "execution_count": 5,
   "metadata": {},
   "outputs": [],
   "source": [
    "def classify(pixels, centroids): \n",
    "    numcentroids, _ = centroids.shape\n",
    "    numPixels, _ = pixels.shape\n",
    "    distances = np.zeros((numcentroids, numPixels))\n",
    "    \n",
    "    for i in range(numcentroids): \n",
    "        for j in range(numPixels): \n",
    "            distances[i][j] = euclideanDistance(centroids[i], pixels[j])\n",
    "            \n",
    "    return np.argmin(distances, axis = 0)"
   ]
  },
  {
   "cell_type": "markdown",
   "metadata": {},
   "source": [
    "#### Returns the center points of the clusters"
   ]
  },
  {
   "cell_type": "code",
   "execution_count": 6,
   "metadata": {},
   "outputs": [],
   "source": [
    "def findCluster(pixels, centroids): \n",
    "    numcentroids, _ = centroids.shape\n",
    "    numPixels, dim = pixels.shape\n",
    "    classified = classify(pixels, centroids)\n",
    "    \n",
    "    for c in range(numcentroids): \n",
    "        sum = np.zeros(dim)\n",
    "        count = 0 \n",
    "        for i in range(numPixels): \n",
    "            if(classified[i] == c): \n",
    "                sum += pixels[i]\n",
    "                count += 1\n",
    "                \n",
    "        mean = sum / count \n",
    "        centroids[c] = mean\n",
    "        \n",
    "    return centroids "
   ]
  },
  {
   "cell_type": "code",
   "execution_count": 7,
   "metadata": {},
   "outputs": [],
   "source": [
    "def kMeans(pixels, k, iterations): \n",
    "    centroids = pixels[0:k]\n",
    "    for i in range(iterations): \n",
    "        centroids = findCluster(pixels, centroids)\n",
    "    return centroids"
   ]
  },
  {
   "cell_type": "markdown",
   "metadata": {},
   "source": [
    "## k = 1"
   ]
  },
  {
   "cell_type": "code",
   "execution_count": 8,
   "metadata": {},
   "outputs": [
    {
     "data": {
      "image/png": "[encoded data removed]",
      "text/plain": [
       "<Figure size 432x288 with 1 Axes>"
      ]
     },
     "metadata": {},
     "output_type": "display_data"
    },
    {
     "name": "stdout",
     "output_type": "stream",
     "text": [
      "Euclidean Distance: 0.0\n",
      "Euclidean Distance: 0.0\n",
      "Euclidean Distance: 0.0\n",
      "Euclidean Distance: 0.0\n",
      "Euclidean Distance: 0.0\n",
      "Euclidean Distance: 0.0\n",
      "Euclidean Distance: 0.0\n",
      "Euclidean Distance: 0.0\n",
      "Euclidean Distance: 0.0\n",
      "Euclidean Distance: 0.0\n"
     ]
    },
    {
     "data": {
      "image/png": "[encoded data removed]",
      "text/plain": [
       "<Figure size 432x288 with 1 Axes>"
      ]
     },
     "metadata": {},
     "output_type": "display_data"
    }
   ],
   "source": [
    "centroids = kMeans(zeros, 1, 10)\n",
    "multImage(centroids)\n",
    "\n",
    "mean = np.mean(zeros, axis = 0)\n",
    "for i in range(10): \n",
    "    centroid = kMeans(zeros, 1, i)\n",
    "    print(\"Euclidean Distance:\", euclideanDistance(mean, centroids))\n",
    "    plt.plot(i, euclideanDistance(mean, centroids), 'rx')\n",
    "    plt.ylabel('Euclidean Distance')\n",
    "    plt.xlabel('Iterations')\n",
    "    plt.show"
   ]
  },
  {
   "cell_type": "markdown",
   "metadata": {},
   "source": [
    "#### As you can see the distance of the mean to centroid is 0 which shows that for K = 1 the centroid is just the mean, even for multiple iterations.  "
   ]
  },
  {
   "cell_type": "markdown",
   "metadata": {},
   "source": [
    "## k = 2"
   ]
  },
  {
   "cell_type": "code",
   "execution_count": 9,
   "metadata": {},
   "outputs": [
    {
     "data": {
      "image/png": "[encoded data removed]",
      "text/plain": [
       "<Figure size 432x288 with 1 Axes>"
      ]
     },
     "metadata": {},
     "output_type": "display_data"
    },
    {
     "data": {
      "image/png": "[encoded data removed]",
      "text/plain": [
       "<Figure size 432x288 with 1 Axes>"
      ]
     },
     "metadata": {},
     "output_type": "display_data"
    },
    {
     "name": "stdout",
     "output_type": "stream",
     "text": [
      "Euclidean Distance: 33.329568415401475\n",
      "Euclidean Distance: 33.329568416351044\n",
      "Euclidean Distance: 33.329568416445206\n",
      "Euclidean Distance: 33.329568416445994\n",
      "Euclidean Distance: 33.329568416445994\n",
      "Euclidean Distance: 33.329568416445994\n",
      "Euclidean Distance: 33.329568416445994\n",
      "Euclidean Distance: 33.329568416445994\n",
      "Euclidean Distance: 33.329568416445994\n",
      "Euclidean Distance: 33.329568416445994\n"
     ]
    },
    {
     "data": {
      "image/png": "[encoded data removed]",
      "text/plain": [
       "<Figure size 432x288 with 1 Axes>"
      ]
     },
     "metadata": {},
     "output_type": "display_data"
    }
   ],
   "source": [
    "centroids = kMeans(zeros, 2, 10)\n",
    "multImage(centroids)\n",
    "#mean = np.mean(zeros, axis = 0)\n",
    "for i in range(10): \n",
    "    centroid = kMeans(zeros, 2, i)\n",
    "    print(\"Euclidean Distance:\", euclideanDistance(mean, centroids))\n",
    "    plt.plot(i, euclideanDistance(mean, centroids), 'rx')\n",
    "    plt.ylabel('Euclidean Distance')\n",
    "    plt.xlabel('Iterations')\n",
    "    plt.show"
   ]
  },
  {
   "cell_type": "markdown",
   "metadata": {},
   "source": [
    "## k = 3"
   ]
  },
  {
   "cell_type": "code",
   "execution_count": 10,
   "metadata": {},
   "outputs": [
    {
     "data": {
      "image/png": "[encoded data removed]",
      "text/plain": [
       "<Figure size 432x288 with 1 Axes>"
      ]
     },
     "metadata": {},
     "output_type": "display_data"
    },
    {
     "data": {
      "image/png": "[encoded data removed]",
      "text/plain": [
       "<Figure size 432x288 with 1 Axes>"
      ]
     },
     "metadata": {},
     "output_type": "display_data"
    },
    {
     "data": {
      "image/png": "[encoded data removed]",
      "text/plain": [
       "<Figure size 432x288 with 1 Axes>"
      ]
     },
     "metadata": {},
     "output_type": "display_data"
    },
    {
     "name": "stdout",
     "output_type": "stream",
     "text": [
      "Euclidean Distance: 36.59162848392986\n",
      "Euclidean Distance: 36.48473894723177\n",
      "Euclidean Distance: 36.45630958241511\n",
      "Euclidean Distance: 36.4563030781005\n",
      "Euclidean Distance: 36.45630307808316\n",
      "Euclidean Distance: 36.45630307808316\n",
      "Euclidean Distance: 36.45630307808316\n",
      "Euclidean Distance: 36.45630307808316\n",
      "Euclidean Distance: 36.45630307808316\n",
      "Euclidean Distance: 36.45630307808316\n"
     ]
    },
    {
     "data": {
      "image/png": "[encoded data removed]",
      "text/plain": [
       "<Figure size 432x288 with 1 Axes>"
      ]
     },
     "metadata": {},
     "output_type": "display_data"
    }
   ],
   "source": [
    "centroids = kMeans(zeros, 3, 10)\n",
    "multImage(centroids)\n",
    "#mean = np.mean(zeros, axis = 0)\n",
    "for i in range(10): \n",
    "    centroid = kMeans(zeros, 3, i)\n",
    "    print(\"Euclidean Distance:\", euclideanDistance(mean, centroids))\n",
    "    plt.plot(i, euclideanDistance(mean, centroids), 'rx')\n",
    "    plt.ylabel('Euclidean Distance')\n",
    "    plt.xlabel('Iterations')\n",
    "    plt.show"
   ]
  },
  {
   "cell_type": "markdown",
   "metadata": {},
   "source": [
    "## k = 200"
   ]
  },
  {
   "cell_type": "code",
   "execution_count": 11,
   "metadata": {},
   "outputs": [
    {
     "name": "stdout",
     "output_type": "stream",
     "text": [
      "Euclidean Distance: 383.38010707083475\n",
      "Euclidean Distance: 383.38010707083475\n",
      "Euclidean Distance: 383.38010707083475\n",
      "Euclidean Distance: 383.38010707083475\n",
      "Euclidean Distance: 383.38010707083475\n",
      "Euclidean Distance: 383.38010707083475\n",
      "Euclidean Distance: 383.38010707083475\n",
      "Euclidean Distance: 383.38010707083475\n",
      "Euclidean Distance: 383.38010707083475\n",
      "Euclidean Distance: 383.38010707083475\n"
     ]
    },
    {
     "data": {
      "image/png": "[encoded data removed]",
      "text/plain": [
       "<Figure size 432x288 with 1 Axes>"
      ]
     },
     "metadata": {},
     "output_type": "display_data"
    }
   ],
   "source": [
    "centroids = kMeans(zeros, 200, 1)\n",
    "multImage(centroids)\n",
    "#mean = np.mean(zeros, axis = 0)\n",
    "for i in range(10): \n",
    "    centroid = kMeans(zeros, 200, i)\n",
    "    print(\"Euclidean Distance:\", euclideanDistance(mean, centroids))\n",
    "    plt.plot(i, euclideanDistance(mean, centroids), 'rx')\n",
    "    plt.ylabel('Euclidean Distance')\n",
    "    plt.xlabel('Iterations')\n",
    "    plt.show"
   ]
  },
  {
   "cell_type": "code",
   "execution_count": null,
   "metadata": {},
   "outputs": [],
   "source": []
  }
 ],
 "metadata": {
  "kernelspec": {
   "display_name": "Python 2",
   "language": "python",
   "name": "python2"
  },
  "language_info": {
   "codemirror_mode": {
    "name": "ipython",
    "version": 3
   },
   "file_extension": ".py",
   "mimetype": "text/x-python",
   "name": "python",
   "nbconvert_exporter": "python",
   "pygments_lexer": "ipython3",
   "version": "3.6.5"
  }
 },
 "nbformat": 4,
 "nbformat_minor": 2
}
